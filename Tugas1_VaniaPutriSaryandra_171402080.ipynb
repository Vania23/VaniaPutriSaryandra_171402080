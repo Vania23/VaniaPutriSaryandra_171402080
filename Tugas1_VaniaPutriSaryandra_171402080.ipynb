{
 "cells": [
  {
   "cell_type": "code",
   "execution_count": 1,
   "metadata": {},
   "outputs": [
    {
     "name": "stdout",
     "output_type": "stream",
     "text": [
      "masukkan x:10\n",
      "1\n",
      "1\n",
      "2\n",
      "3\n",
      "5\n",
      "8\n",
      "13\n",
      "21\n",
      "34\n"
     ]
    }
   ],
   "source": [
    "class Fibo:\n",
    "    _message =\"ïni adalah fibonacci rekursif\"\n",
    "def fib_ref(n):\n",
    "    if (n <=2):\n",
    "        return 1\n",
    "    else:\n",
    "        return (fib_ref(n-1)+fib_ref(n-2))\n",
    "        print (\"Cetak Fibonacci Rekursif sebanyak x\")\n",
    "n = int (input(\"masukkan x:\"))\n",
    "for i in range (1,n):\n",
    "       print (fib_ref(i))\n",
    "def get_message():\n",
    "    print (_message)"
   ]
  },
  {
   "cell_type": "code",
   "execution_count": null,
   "metadata": {},
   "outputs": [],
   "source": []
  }
 ],
 "metadata": {
  "kernelspec": {
   "display_name": "Python 3",
   "language": "python",
   "name": "python3"
  },
  "language_info": {
   "codemirror_mode": {
    "name": "ipython",
    "version": 3
   },
   "file_extension": ".py",
   "mimetype": "text/x-python",
   "name": "python",
   "nbconvert_exporter": "python",
   "pygments_lexer": "ipython3",
   "version": "3.7.2"
  }
 },
 "nbformat": 4,
 "nbformat_minor": 2
}
